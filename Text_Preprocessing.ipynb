{
  "nbformat": 4,
  "nbformat_minor": 0,
  "metadata": {
    "colab": {
      "name": "Text_Preprocessing.ipynb",
      "provenance": [],
      "collapsed_sections": []
    },
    "kernelspec": {
      "name": "python3",
      "display_name": "Python 3"
    },
    "accelerator": "GPU"
  },
  "cells": [
    {
      "cell_type": "code",
      "metadata": {
        "colab": {
          "base_uri": "https://localhost:8080/",
          "height": 496
        },
        "id": "wuLKWoJj7CV7",
        "outputId": "4c3d10a3-ee33-400d-add7-1cd7ef84c62e"
      },
      "source": [
        "import pandas as pd\n",
        "import matplotlib.pyplot as plt\n",
        "import seaborn as sns\n",
        "df = pd.read_csv('train.tsv', sep='\\t')\n",
        "df.head()"
      ],
      "execution_count": 4,
      "outputs": [
        {
          "output_type": "execute_result",
          "data": {
            "text/html": [
              "<div>\n",
              "<style scoped>\n",
              "    .dataframe tbody tr th:only-of-type {\n",
              "        vertical-align: middle;\n",
              "    }\n",
              "\n",
              "    .dataframe tbody tr th {\n",
              "        vertical-align: top;\n",
              "    }\n",
              "\n",
              "    .dataframe thead th {\n",
              "        text-align: right;\n",
              "    }\n",
              "</style>\n",
              "<table border=\"1\" class=\"dataframe\">\n",
              "  <thead>\n",
              "    <tr style=\"text-align: right;\">\n",
              "      <th></th>\n",
              "      <th>url</th>\n",
              "      <th>urlid</th>\n",
              "      <th>boilerplate</th>\n",
              "      <th>alchemy_category</th>\n",
              "      <th>alchemy_category_score</th>\n",
              "      <th>avglinksize</th>\n",
              "      <th>commonlinkratio_1</th>\n",
              "      <th>commonlinkratio_2</th>\n",
              "      <th>commonlinkratio_3</th>\n",
              "      <th>commonlinkratio_4</th>\n",
              "      <th>compression_ratio</th>\n",
              "      <th>embed_ratio</th>\n",
              "      <th>framebased</th>\n",
              "      <th>frameTagRatio</th>\n",
              "      <th>hasDomainLink</th>\n",
              "      <th>html_ratio</th>\n",
              "      <th>image_ratio</th>\n",
              "      <th>is_news</th>\n",
              "      <th>lengthyLinkDomain</th>\n",
              "      <th>linkwordscore</th>\n",
              "      <th>news_front_page</th>\n",
              "      <th>non_markup_alphanum_characters</th>\n",
              "      <th>numberOfLinks</th>\n",
              "      <th>numwords_in_url</th>\n",
              "      <th>parametrizedLinkRatio</th>\n",
              "      <th>spelling_errors_ratio</th>\n",
              "      <th>label</th>\n",
              "    </tr>\n",
              "  </thead>\n",
              "  <tbody>\n",
              "    <tr>\n",
              "      <th>0</th>\n",
              "      <td>http://www.bloomberg.com/news/2010-12-23/ibm-p...</td>\n",
              "      <td>4042</td>\n",
              "      <td>{\"title\":\"IBM Sees Holographic Calls Air Breat...</td>\n",
              "      <td>business</td>\n",
              "      <td>0.789131</td>\n",
              "      <td>2.055556</td>\n",
              "      <td>0.676471</td>\n",
              "      <td>0.205882</td>\n",
              "      <td>0.047059</td>\n",
              "      <td>0.023529</td>\n",
              "      <td>0.443783</td>\n",
              "      <td>0.0</td>\n",
              "      <td>0</td>\n",
              "      <td>0.090774</td>\n",
              "      <td>0</td>\n",
              "      <td>0.245831</td>\n",
              "      <td>0.003883</td>\n",
              "      <td>1</td>\n",
              "      <td>1</td>\n",
              "      <td>24</td>\n",
              "      <td>0</td>\n",
              "      <td>5424</td>\n",
              "      <td>170</td>\n",
              "      <td>8</td>\n",
              "      <td>0.152941</td>\n",
              "      <td>0.079130</td>\n",
              "      <td>0</td>\n",
              "    </tr>\n",
              "    <tr>\n",
              "      <th>1</th>\n",
              "      <td>http://www.popsci.com/technology/article/2012-...</td>\n",
              "      <td>8471</td>\n",
              "      <td>{\"title\":\"The Fully Electronic Futuristic Star...</td>\n",
              "      <td>recreation</td>\n",
              "      <td>0.574147</td>\n",
              "      <td>3.677966</td>\n",
              "      <td>0.508021</td>\n",
              "      <td>0.288770</td>\n",
              "      <td>0.213904</td>\n",
              "      <td>0.144385</td>\n",
              "      <td>0.468649</td>\n",
              "      <td>0.0</td>\n",
              "      <td>0</td>\n",
              "      <td>0.098707</td>\n",
              "      <td>0</td>\n",
              "      <td>0.203490</td>\n",
              "      <td>0.088652</td>\n",
              "      <td>1</td>\n",
              "      <td>1</td>\n",
              "      <td>40</td>\n",
              "      <td>0</td>\n",
              "      <td>4973</td>\n",
              "      <td>187</td>\n",
              "      <td>9</td>\n",
              "      <td>0.181818</td>\n",
              "      <td>0.125448</td>\n",
              "      <td>1</td>\n",
              "    </tr>\n",
              "    <tr>\n",
              "      <th>2</th>\n",
              "      <td>http://www.menshealth.com/health/flu-fighting-...</td>\n",
              "      <td>1164</td>\n",
              "      <td>{\"title\":\"Fruits that Fight the Flu fruits tha...</td>\n",
              "      <td>health</td>\n",
              "      <td>0.996526</td>\n",
              "      <td>2.382883</td>\n",
              "      <td>0.562016</td>\n",
              "      <td>0.321705</td>\n",
              "      <td>0.120155</td>\n",
              "      <td>0.042636</td>\n",
              "      <td>0.525448</td>\n",
              "      <td>0.0</td>\n",
              "      <td>0</td>\n",
              "      <td>0.072448</td>\n",
              "      <td>0</td>\n",
              "      <td>0.226402</td>\n",
              "      <td>0.120536</td>\n",
              "      <td>1</td>\n",
              "      <td>1</td>\n",
              "      <td>55</td>\n",
              "      <td>0</td>\n",
              "      <td>2240</td>\n",
              "      <td>258</td>\n",
              "      <td>11</td>\n",
              "      <td>0.166667</td>\n",
              "      <td>0.057613</td>\n",
              "      <td>1</td>\n",
              "    </tr>\n",
              "    <tr>\n",
              "      <th>3</th>\n",
              "      <td>http://www.dumblittleman.com/2007/12/10-foolpr...</td>\n",
              "      <td>6684</td>\n",
              "      <td>{\"title\":\"10 Foolproof Tips for Better Sleep \"...</td>\n",
              "      <td>health</td>\n",
              "      <td>0.801248</td>\n",
              "      <td>1.543103</td>\n",
              "      <td>0.400000</td>\n",
              "      <td>0.100000</td>\n",
              "      <td>0.016667</td>\n",
              "      <td>0.000000</td>\n",
              "      <td>0.480725</td>\n",
              "      <td>0.0</td>\n",
              "      <td>0</td>\n",
              "      <td>0.095861</td>\n",
              "      <td>0</td>\n",
              "      <td>0.265656</td>\n",
              "      <td>0.035343</td>\n",
              "      <td>1</td>\n",
              "      <td>0</td>\n",
              "      <td>24</td>\n",
              "      <td>0</td>\n",
              "      <td>2737</td>\n",
              "      <td>120</td>\n",
              "      <td>5</td>\n",
              "      <td>0.041667</td>\n",
              "      <td>0.100858</td>\n",
              "      <td>1</td>\n",
              "    </tr>\n",
              "    <tr>\n",
              "      <th>4</th>\n",
              "      <td>http://bleacherreport.com/articles/1205138-the...</td>\n",
              "      <td>9006</td>\n",
              "      <td>{\"title\":\"The 50 Coolest Jerseys You Didn t Kn...</td>\n",
              "      <td>sports</td>\n",
              "      <td>0.719157</td>\n",
              "      <td>2.676471</td>\n",
              "      <td>0.500000</td>\n",
              "      <td>0.222222</td>\n",
              "      <td>0.123457</td>\n",
              "      <td>0.043210</td>\n",
              "      <td>0.446143</td>\n",
              "      <td>0.0</td>\n",
              "      <td>0</td>\n",
              "      <td>0.024908</td>\n",
              "      <td>0</td>\n",
              "      <td>0.228887</td>\n",
              "      <td>0.050473</td>\n",
              "      <td>1</td>\n",
              "      <td>1</td>\n",
              "      <td>14</td>\n",
              "      <td>0</td>\n",
              "      <td>12032</td>\n",
              "      <td>162</td>\n",
              "      <td>10</td>\n",
              "      <td>0.098765</td>\n",
              "      <td>0.082569</td>\n",
              "      <td>0</td>\n",
              "    </tr>\n",
              "  </tbody>\n",
              "</table>\n",
              "</div>"
            ],
            "text/plain": [
              "                                                 url  ...  label\n",
              "0  http://www.bloomberg.com/news/2010-12-23/ibm-p...  ...      0\n",
              "1  http://www.popsci.com/technology/article/2012-...  ...      1\n",
              "2  http://www.menshealth.com/health/flu-fighting-...  ...      1\n",
              "3  http://www.dumblittleman.com/2007/12/10-foolpr...  ...      1\n",
              "4  http://bleacherreport.com/articles/1205138-the...  ...      0\n",
              "\n",
              "[5 rows x 27 columns]"
            ]
          },
          "metadata": {
            "tags": []
          },
          "execution_count": 4
        }
      ]
    },
    {
      "cell_type": "code",
      "metadata": {
        "colab": {
          "base_uri": "https://localhost:8080/",
          "height": 120
        },
        "id": "V-L845RMPsNE",
        "outputId": "351a4f8b-58e4-457c-e45b-79111ed26920"
      },
      "source": [
        "df['boilerplate'][0]"
      ],
      "execution_count": 5,
      "outputs": [
        {
          "output_type": "execute_result",
          "data": {
            "application/vnd.google.colaboratory.intrinsic+json": {
              "type": "string"
            },
            "text/plain": [
              "'{\"title\":\"IBM Sees Holographic Calls Air Breathing Batteries ibm sees holographic calls, air-breathing batteries\",\"body\":\"A sign stands outside the International Business Machines Corp IBM Almaden Research Center campus in San Jose California Photographer Tony Avelar Bloomberg Buildings stand at the International Business Machines Corp IBM Almaden Research Center campus in the Santa Teresa Hills of San Jose California Photographer Tony Avelar Bloomberg By 2015 your mobile phone will project a 3 D image of anyone who calls and your laptop will be powered by kinetic energy At least that s what International Business Machines Corp sees in its crystal ball The predictions are part of an annual tradition for the Armonk New York based company which surveys its 3 000 researchers to find five ideas expected to take root in the next five years IBM the world s largest provider of computer services looks to Silicon Valley for input gleaning many ideas from its Almaden research center in San Jose California Holographic conversations projected from mobile phones lead this year s list The predictions also include air breathing batteries computer programs that can tell when and where traffic jams will take place environmental information generated by sensors in cars and phones and cities powered by the heat thrown off by computer servers These are all stretch goals and that s good said Paul Saffo managing director of foresight at the investment advisory firm Discern in San Francisco In an era when pessimism is the new black a little dose of technological optimism is not a bad thing For IBM it s not just idle speculation The company is one of the few big corporations investing in long range research projects and it counts on innovation to fuel growth Saffo said Not all of its predictions pan out though IBM was overly optimistic about the spread of speech technology for instance When the ideas do lead to products they can have broad implications for society as well as IBM s bottom line he said Research Spending They have continued to do research when all the other grand research organizations are gone said Saffo who is also a consulting associate professor at Stanford University IBM invested 5 8 billion in research and development last year 6 1 percent of revenue While that s down from about 10 percent in the early 1990s the company spends a bigger share on research than its computing rivals Hewlett Packard Co the top maker of personal computers spent 2 4 percent last year At Almaden scientists work on projects that don t always fit in with IBM s computer business The lab s research includes efforts to develop an electric car battery that runs 500 miles on one charge a filtration system for desalination and a program that shows changes in geographic data IBM rose 9 cents to 146 04 at 11 02 a m in New York Stock Exchange composite trading The stock had gained 11 percent this year before today Citizen Science The list is meant to give a window into the company s innovation engine said Josephine Cheng a vice president at IBM s Almaden lab All this demonstrates a real culture of innovation at IBM and willingness to devote itself to solving some of the world s biggest problems she said Many of the predictions are based on projects that IBM has in the works One of this year s ideas that sensors in cars wallets and personal devices will give scientists better data about the environment is an expansion of the company s citizen science initiative Earlier this year IBM teamed up with the California State Water Resources Control Board and the City of San Jose Environmental Services to help gather information about waterways Researchers from Almaden created an application that lets smartphone users snap photos of streams and creeks and report back on conditions The hope is that these casual observations will help local and state officials who don t have the resources to do the work themselves Traffic Predictors IBM also sees data helping shorten commutes in the next five years Computer programs will use algorithms and real time traffic information to predict which roads will have backups and how to avoid getting stuck Batteries may last 10 times longer in 2015 than today IBM says Rather than using the current lithium ion technology new models could rely on energy dense metals that only need to interact with the air to recharge Some electronic devices might ditch batteries altogether and use something similar to kinetic wristwatches which only need to be shaken to generate a charge The final prediction involves recycling the heat generated by computers and data centers Almost half of the power used by data centers is currently spent keeping the computers cool IBM scientists say it would be better to harness that heat to warm houses and offices In IBM s first list of predictions compiled at the end of 2006 researchers said instantaneous speech translation would become the norm That hasn t happened yet While some programs can quickly translate electronic documents and instant messages and other apps can perform limited speech translation there s nothing widely available that acts like the universal translator in Star Trek Second Life The company also predicted that online immersive environments such as Second Life would become more widespread While immersive video games are as popular as ever Second Life s growth has slowed Internet users are flocking instead to the more 2 D environments of Facebook Inc and Twitter Inc Meanwhile a 2007 prediction that mobile phones will act as a wallet ticket broker concierge bank and shopping assistant is coming true thanks to the explosion of smartphone applications Consumers can pay bills through their banking apps buy movie tickets and get instant feedback on potential purchases all with a few taps on their phones The nice thing about the list is that it provokes thought Saffo said If everything came true they wouldn t be doing their job To contact the reporter on this story Ryan Flinn in San Francisco at rflinn bloomberg net To contact the editor responsible for this story Tom Giles at tgiles5 bloomberg net by 2015, your mobile phone will project a 3-d image of anyone who calls and your laptop will be powered by kinetic energy. at least that\\\\u2019s what international business machines corp. sees in its crystal ball.\",\"url\":\"bloomberg news 2010 12 23 ibm predicts holographic calls air breathing batteries by 2015 html\"}'"
            ]
          },
          "metadata": {
            "tags": []
          },
          "execution_count": 5
        }
      ]
    },
    {
      "cell_type": "code",
      "metadata": {
        "colab": {
          "base_uri": "https://localhost:8080/",
          "height": 459
        },
        "id": "Mh0RmxrrH6qz",
        "outputId": "ff4b51e3-d6ea-4185-fa82-9941d2bad932"
      },
      "source": [
        "plt.figure(figsize=(8,6))\n",
        "sns.countplot(df.label)"
      ],
      "execution_count": 6,
      "outputs": [
        {
          "output_type": "stream",
          "text": [
            "/usr/local/lib/python3.7/dist-packages/seaborn/_decorators.py:43: FutureWarning: Pass the following variable as a keyword arg: x. From version 0.12, the only valid positional argument will be `data`, and passing other arguments without an explicit keyword will result in an error or misinterpretation.\n",
            "  FutureWarning\n"
          ],
          "name": "stderr"
        },
        {
          "output_type": "execute_result",
          "data": {
            "text/plain": [
              "<matplotlib.axes._subplots.AxesSubplot at 0x7f38ee9d9550>"
            ]
          },
          "metadata": {
            "tags": []
          },
          "execution_count": 6
        },
        {
          "output_type": "display_data",
          "data": {
            "image/png": "[encoded data removed]",
            "text/plain": [
              "<Figure size 576x432 with 1 Axes>"
            ]
          },
          "metadata": {
            "tags": [],
            "needs_background": "light"
          }
        }
      ]
    },
    {
      "cell_type": "code",
      "metadata": {
        "colab": {
          "base_uri": "https://localhost:8080/",
          "height": 419
        },
        "id": "EN8dR24IH6wZ",
        "outputId": "50a7cb8b-e8fc-4180-fcd7-b70e08effa54"
      },
      "source": [
        "import json\n",
        "\n",
        "title=[]\n",
        "body=[]\n",
        "urlid=[]\n",
        "label=[]\n",
        "\n",
        "for i in range(7395):\n",
        "    X=json.loads(df[\"boilerplate\"][i])\n",
        "    if 'title' in X.keys() and 'body' in X.keys():\n",
        "        title.append(X.get('title'))\n",
        "        body.append(X.get('body'))\n",
        "        urlid.append(df['urlid'][i])\n",
        "        label.append(df['label'][i])\n",
        "    \n",
        "\n",
        "dictt = {'urlid':urlid,'title':title,'body':body,'label':label}\n",
        "new = pd.DataFrame.from_dict(dictt) \n",
        "\n",
        "new.dropna()"
      ],
      "execution_count": 7,
      "outputs": [
        {
          "output_type": "execute_result",
          "data": {
            "text/html": [
              "<div>\n",
              "<style scoped>\n",
              "    .dataframe tbody tr th:only-of-type {\n",
              "        vertical-align: middle;\n",
              "    }\n",
              "\n",
              "    .dataframe tbody tr th {\n",
              "        vertical-align: top;\n",
              "    }\n",
              "\n",
              "    .dataframe thead th {\n",
              "        text-align: right;\n",
              "    }\n",
              "</style>\n",
              "<table border=\"1\" class=\"dataframe\">\n",
              "  <thead>\n",
              "    <tr style=\"text-align: right;\">\n",
              "      <th></th>\n",
              "      <th>urlid</th>\n",
              "      <th>title</th>\n",
              "      <th>body</th>\n",
              "      <th>label</th>\n",
              "    </tr>\n",
              "  </thead>\n",
              "  <tbody>\n",
              "    <tr>\n",
              "      <th>0</th>\n",
              "      <td>4042</td>\n",
              "      <td>IBM Sees Holographic Calls Air Breathing Batte...</td>\n",
              "      <td>A sign stands outside the International Busine...</td>\n",
              "      <td>0</td>\n",
              "    </tr>\n",
              "    <tr>\n",
              "      <th>1</th>\n",
              "      <td>8471</td>\n",
              "      <td>The Fully Electronic Futuristic Starting Gun T...</td>\n",
              "      <td>And that can be carried on a plane without the...</td>\n",
              "      <td>1</td>\n",
              "    </tr>\n",
              "    <tr>\n",
              "      <th>2</th>\n",
              "      <td>1164</td>\n",
              "      <td>Fruits that Fight the Flu fruits that fight th...</td>\n",
              "      <td>Apples The most popular source of antioxidants...</td>\n",
              "      <td>1</td>\n",
              "    </tr>\n",
              "    <tr>\n",
              "      <th>3</th>\n",
              "      <td>6684</td>\n",
              "      <td>10 Foolproof Tips for Better Sleep</td>\n",
              "      <td>There was a period in my life when I had a lot...</td>\n",
              "      <td>1</td>\n",
              "    </tr>\n",
              "    <tr>\n",
              "      <th>4</th>\n",
              "      <td>9006</td>\n",
              "      <td>The 50 Coolest Jerseys You Didn t Know Existed...</td>\n",
              "      <td>Jersey sales is a curious business Whether you...</td>\n",
              "      <td>0</td>\n",
              "    </tr>\n",
              "    <tr>\n",
              "      <th>...</th>\n",
              "      <td>...</td>\n",
              "      <td>...</td>\n",
              "      <td>...</td>\n",
              "      <td>...</td>\n",
              "    </tr>\n",
              "    <tr>\n",
              "      <th>7389</th>\n",
              "      <td>8958</td>\n",
              "      <td>Kno Raises 46 Million More To Build Most Power...</td>\n",
              "      <td>Marc Andreessen is normally enthusiastic about...</td>\n",
              "      <td>0</td>\n",
              "    </tr>\n",
              "    <tr>\n",
              "      <th>7390</th>\n",
              "      <td>8895</td>\n",
              "      <td>Why I Miss College</td>\n",
              "      <td>Mar 30 2009 I d like to congratulate Jane on h...</td>\n",
              "      <td>0</td>\n",
              "    </tr>\n",
              "    <tr>\n",
              "      <th>7391</th>\n",
              "      <td>1191</td>\n",
              "      <td>Sweet Potatoes Eat This Not That  i'm eating t...</td>\n",
              "      <td>They re loaded with vitamin C which smoothes o...</td>\n",
              "      <td>1</td>\n",
              "    </tr>\n",
              "    <tr>\n",
              "      <th>7392</th>\n",
              "      <td>5612</td>\n",
              "      <td>Naturally Ella</td>\n",
              "      <td></td>\n",
              "      <td>1</td>\n",
              "    </tr>\n",
              "    <tr>\n",
              "      <th>7393</th>\n",
              "      <td>90</td>\n",
              "      <td>Esti Ginzburg Swimsuit by Letarte by Lisa Cabr...</td>\n",
              "      <td>Esti Ginzburg 20 is a native of Tel Aviv Israe...</td>\n",
              "      <td>0</td>\n",
              "    </tr>\n",
              "  </tbody>\n",
              "</table>\n",
              "<p>7326 rows × 4 columns</p>\n",
              "</div>"
            ],
            "text/plain": [
              "      urlid  ... label\n",
              "0      4042  ...     0\n",
              "1      8471  ...     1\n",
              "2      1164  ...     1\n",
              "3      6684  ...     1\n",
              "4      9006  ...     0\n",
              "...     ...  ...   ...\n",
              "7389   8958  ...     0\n",
              "7390   8895  ...     0\n",
              "7391   1191  ...     1\n",
              "7392   5612  ...     1\n",
              "7393     90  ...     0\n",
              "\n",
              "[7326 rows x 4 columns]"
            ]
          },
          "metadata": {
            "tags": []
          },
          "execution_count": 7
        }
      ]
    },
    {
      "cell_type": "code",
      "metadata": {
        "id": "KxibSfeKH6zC"
      },
      "source": [
        "for i in range(7393):\n",
        "    if new['body'][i] is  None :\n",
        "            new.drop(index=i,inplace=True)\n",
        "    elif len(new['body'][i]) < 20:\n",
        "            new.drop(index=i,inplace=True)\n",
        "new.reset_index(inplace=True)         "
      ],
      "execution_count": 8,
      "outputs": []
    },
    {
      "cell_type": "code",
      "metadata": {
        "colab": {
          "base_uri": "https://localhost:8080/",
          "height": 419
        },
        "id": "Q-huajPtJyu7",
        "outputId": "09f0c34c-87e9-4934-a84c-c602fe0fc219"
      },
      "source": [
        "new.drop(columns=['index'],inplace=True)\n",
        "new"
      ],
      "execution_count": 9,
      "outputs": [
        {
          "output_type": "execute_result",
          "data": {
            "text/html": [
              "<div>\n",
              "<style scoped>\n",
              "    .dataframe tbody tr th:only-of-type {\n",
              "        vertical-align: middle;\n",
              "    }\n",
              "\n",
              "    .dataframe tbody tr th {\n",
              "        vertical-align: top;\n",
              "    }\n",
              "\n",
              "    .dataframe thead th {\n",
              "        text-align: right;\n",
              "    }\n",
              "</style>\n",
              "<table border=\"1\" class=\"dataframe\">\n",
              "  <thead>\n",
              "    <tr style=\"text-align: right;\">\n",
              "      <th></th>\n",
              "      <th>urlid</th>\n",
              "      <th>title</th>\n",
              "      <th>body</th>\n",
              "      <th>label</th>\n",
              "    </tr>\n",
              "  </thead>\n",
              "  <tbody>\n",
              "    <tr>\n",
              "      <th>0</th>\n",
              "      <td>4042</td>\n",
              "      <td>IBM Sees Holographic Calls Air Breathing Batte...</td>\n",
              "      <td>A sign stands outside the International Busine...</td>\n",
              "      <td>0</td>\n",
              "    </tr>\n",
              "    <tr>\n",
              "      <th>1</th>\n",
              "      <td>8471</td>\n",
              "      <td>The Fully Electronic Futuristic Starting Gun T...</td>\n",
              "      <td>And that can be carried on a plane without the...</td>\n",
              "      <td>1</td>\n",
              "    </tr>\n",
              "    <tr>\n",
              "      <th>2</th>\n",
              "      <td>1164</td>\n",
              "      <td>Fruits that Fight the Flu fruits that fight th...</td>\n",
              "      <td>Apples The most popular source of antioxidants...</td>\n",
              "      <td>1</td>\n",
              "    </tr>\n",
              "    <tr>\n",
              "      <th>3</th>\n",
              "      <td>6684</td>\n",
              "      <td>10 Foolproof Tips for Better Sleep</td>\n",
              "      <td>There was a period in my life when I had a lot...</td>\n",
              "      <td>1</td>\n",
              "    </tr>\n",
              "    <tr>\n",
              "      <th>4</th>\n",
              "      <td>9006</td>\n",
              "      <td>The 50 Coolest Jerseys You Didn t Know Existed...</td>\n",
              "      <td>Jersey sales is a curious business Whether you...</td>\n",
              "      <td>0</td>\n",
              "    </tr>\n",
              "    <tr>\n",
              "      <th>...</th>\n",
              "      <td>...</td>\n",
              "      <td>...</td>\n",
              "      <td>...</td>\n",
              "      <td>...</td>\n",
              "    </tr>\n",
              "    <tr>\n",
              "      <th>6683</th>\n",
              "      <td>8923</td>\n",
              "      <td>Gummy Snake Worth1000 Contests</td>\n",
              "      <td>Entry Details Entered 12 1 2008 12 08 35 PM Ra...</td>\n",
              "      <td>0</td>\n",
              "    </tr>\n",
              "    <tr>\n",
              "      <th>6684</th>\n",
              "      <td>8958</td>\n",
              "      <td>Kno Raises 46 Million More To Build Most Power...</td>\n",
              "      <td>Marc Andreessen is normally enthusiastic about...</td>\n",
              "      <td>0</td>\n",
              "    </tr>\n",
              "    <tr>\n",
              "      <th>6685</th>\n",
              "      <td>8895</td>\n",
              "      <td>Why I Miss College</td>\n",
              "      <td>Mar 30 2009 I d like to congratulate Jane on h...</td>\n",
              "      <td>0</td>\n",
              "    </tr>\n",
              "    <tr>\n",
              "      <th>6686</th>\n",
              "      <td>1191</td>\n",
              "      <td>Sweet Potatoes Eat This Not That  i'm eating t...</td>\n",
              "      <td>They re loaded with vitamin C which smoothes o...</td>\n",
              "      <td>1</td>\n",
              "    </tr>\n",
              "    <tr>\n",
              "      <th>6687</th>\n",
              "      <td>90</td>\n",
              "      <td>Esti Ginzburg Swimsuit by Letarte by Lisa Cabr...</td>\n",
              "      <td>Esti Ginzburg 20 is a native of Tel Aviv Israe...</td>\n",
              "      <td>0</td>\n",
              "    </tr>\n",
              "  </tbody>\n",
              "</table>\n",
              "<p>6688 rows × 4 columns</p>\n",
              "</div>"
            ],
            "text/plain": [
              "      urlid  ... label\n",
              "0      4042  ...     0\n",
              "1      8471  ...     1\n",
              "2      1164  ...     1\n",
              "3      6684  ...     1\n",
              "4      9006  ...     0\n",
              "...     ...  ...   ...\n",
              "6683   8923  ...     0\n",
              "6684   8958  ...     0\n",
              "6685   8895  ...     0\n",
              "6686   1191  ...     1\n",
              "6687     90  ...     0\n",
              "\n",
              "[6688 rows x 4 columns]"
            ]
          },
          "metadata": {
            "tags": []
          },
          "execution_count": 9
        }
      ]
    },
    {
      "cell_type": "code",
      "metadata": {
        "colab": {
          "base_uri": "https://localhost:8080/",
          "height": 453
        },
        "id": "AZqLN5mSJyyj",
        "outputId": "b22bf8b9-1f50-4ca0-d5ef-a9a03d852077"
      },
      "source": [
        "import re\n",
        "import nltk\n",
        "nltk.download('stopwords')\n",
        "from nltk.corpus import stopwords\n",
        "from nltk.stem.porter import PorterStemmer\n",
        "ps=PorterStemmer()\n",
        "data=new.iloc[:,1:3]\n",
        "data.replace(\"[^a-zA-Z]\",\" \",regex=True,inplace=True)\n",
        "data['title']=data['title'].str.lower()\n",
        "data['body']=data['body'].str.lower()\n",
        "data\n"
      ],
      "execution_count": 10,
      "outputs": [
        {
          "output_type": "stream",
          "text": [
            "[nltk_data] Downloading package stopwords to /root/nltk_data...\n",
            "[nltk_data]   Unzipping corpora/stopwords.zip.\n"
          ],
          "name": "stdout"
        },
        {
          "output_type": "execute_result",
          "data": {
            "text/html": [
              "<div>\n",
              "<style scoped>\n",
              "    .dataframe tbody tr th:only-of-type {\n",
              "        vertical-align: middle;\n",
              "    }\n",
              "\n",
              "    .dataframe tbody tr th {\n",
              "        vertical-align: top;\n",
              "    }\n",
              "\n",
              "    .dataframe thead th {\n",
              "        text-align: right;\n",
              "    }\n",
              "</style>\n",
              "<table border=\"1\" class=\"dataframe\">\n",
              "  <thead>\n",
              "    <tr style=\"text-align: right;\">\n",
              "      <th></th>\n",
              "      <th>title</th>\n",
              "      <th>body</th>\n",
              "    </tr>\n",
              "  </thead>\n",
              "  <tbody>\n",
              "    <tr>\n",
              "      <th>0</th>\n",
              "      <td>ibm sees holographic calls air breathing batte...</td>\n",
              "      <td>a sign stands outside the international busine...</td>\n",
              "    </tr>\n",
              "    <tr>\n",
              "      <th>1</th>\n",
              "      <td>the fully electronic futuristic starting gun t...</td>\n",
              "      <td>and that can be carried on a plane without the...</td>\n",
              "    </tr>\n",
              "    <tr>\n",
              "      <th>2</th>\n",
              "      <td>fruits that fight the flu fruits that fight th...</td>\n",
              "      <td>apples the most popular source of antioxidants...</td>\n",
              "    </tr>\n",
              "    <tr>\n",
              "      <th>3</th>\n",
              "      <td>foolproof tips for better sleep</td>\n",
              "      <td>there was a period in my life when i had a lot...</td>\n",
              "    </tr>\n",
              "    <tr>\n",
              "      <th>4</th>\n",
              "      <td>the    coolest jerseys you didn t know existed...</td>\n",
              "      <td>jersey sales is a curious business whether you...</td>\n",
              "    </tr>\n",
              "    <tr>\n",
              "      <th>...</th>\n",
              "      <td>...</td>\n",
              "      <td>...</td>\n",
              "    </tr>\n",
              "    <tr>\n",
              "      <th>6683</th>\n",
              "      <td>gummy snake worth     contests</td>\n",
              "      <td>entry details entered                    pm ra...</td>\n",
              "    </tr>\n",
              "    <tr>\n",
              "      <th>6684</th>\n",
              "      <td>kno raises    million more to build most power...</td>\n",
              "      <td>marc andreessen is normally enthusiastic about...</td>\n",
              "    </tr>\n",
              "    <tr>\n",
              "      <th>6685</th>\n",
              "      <td>why i miss college</td>\n",
              "      <td>mar         i d like to congratulate jane on h...</td>\n",
              "    </tr>\n",
              "    <tr>\n",
              "      <th>6686</th>\n",
              "      <td>sweet potatoes eat this not that  i m eating t...</td>\n",
              "      <td>they re loaded with vitamin c which smoothes o...</td>\n",
              "    </tr>\n",
              "    <tr>\n",
              "      <th>6687</th>\n",
              "      <td>esti ginzburg swimsuit by letarte by lisa cabr...</td>\n",
              "      <td>esti ginzburg    is a native of tel aviv israe...</td>\n",
              "    </tr>\n",
              "  </tbody>\n",
              "</table>\n",
              "<p>6688 rows × 2 columns</p>\n",
              "</div>"
            ],
            "text/plain": [
              "                                                  title                                               body\n",
              "0     ibm sees holographic calls air breathing batte...  a sign stands outside the international busine...\n",
              "1     the fully electronic futuristic starting gun t...  and that can be carried on a plane without the...\n",
              "2     fruits that fight the flu fruits that fight th...  apples the most popular source of antioxidants...\n",
              "3                      foolproof tips for better sleep   there was a period in my life when i had a lot...\n",
              "4     the    coolest jerseys you didn t know existed...  jersey sales is a curious business whether you...\n",
              "...                                                 ...                                                ...\n",
              "6683                    gummy snake worth     contests   entry details entered                    pm ra...\n",
              "6684  kno raises    million more to build most power...  marc andreessen is normally enthusiastic about...\n",
              "6685                                why i miss college   mar         i d like to congratulate jane on h...\n",
              "6686  sweet potatoes eat this not that  i m eating t...  they re loaded with vitamin c which smoothes o...\n",
              "6687  esti ginzburg swimsuit by letarte by lisa cabr...  esti ginzburg    is a native of tel aviv israe...\n",
              "\n",
              "[6688 rows x 2 columns]"
            ]
          },
          "metadata": {
            "tags": []
          },
          "execution_count": 10
        }
      ]
    },
    {
      "cell_type": "code",
      "metadata": {
        "colab": {
          "base_uri": "https://localhost:8080/",
          "height": 120
        },
        "id": "KD4GmUmMJy1g",
        "outputId": "183e9bfd-b252-40d4-badc-660be0a317be"
      },
      "source": [
        "titlebodycombined_train=[]\n",
        "\n",
        "for row in range(0,len(data.index)):\n",
        "    titlebodycombined_train.append(' '.join(str(x) for x in data.iloc[row,1:3]))\n",
        "\n",
        "titlebodycombined_train[0]\n"
      ],
      "execution_count": 11,
      "outputs": [
        {
          "output_type": "execute_result",
          "data": {
            "application/vnd.google.colaboratory.intrinsic+json": {
              "type": "string"
            },
            "text/plain": [
              "'a sign stands outside the international business machines corp ibm almaden research center campus in san jose california photographer tony avelar bloomberg buildings stand at the international business machines corp ibm almaden research center campus in the santa teresa hills of san jose california photographer tony avelar bloomberg by      your mobile phone will project a   d image of anyone who calls and your laptop will be powered by kinetic energy at least that s what international business machines corp sees in its crystal ball the predictions are part of an annual tradition for the armonk new york based company which surveys its       researchers to find five ideas expected to take root in the next five years ibm the world s largest provider of computer services looks to silicon valley for input gleaning many ideas from its almaden research center in san jose california holographic conversations projected from mobile phones lead this year s list the predictions also include air breathing batteries computer programs that can tell when and where traffic jams will take place environmental information generated by sensors in cars and phones and cities powered by the heat thrown off by computer servers these are all stretch goals and that s good said paul saffo managing director of foresight at the investment advisory firm discern in san francisco in an era when pessimism is the new black a little dose of technological optimism is not a bad thing for ibm it s not just idle speculation the company is one of the few big corporations investing in long range research projects and it counts on innovation to fuel growth saffo said not all of its predictions pan out though ibm was overly optimistic about the spread of speech technology for instance when the ideas do lead to products they can have broad implications for society as well as ibm s bottom line he said research spending they have continued to do research when all the other grand research organizations are gone said saffo who is also a consulting associate professor at stanford university ibm invested     billion in research and development last year     percent of revenue while that s down from about    percent in the early     s the company spends a bigger share on research than its computing rivals hewlett packard co the top maker of personal computers spent     percent last year at almaden scientists work on projects that don t always fit in with ibm s computer business the lab s research includes efforts to develop an electric car battery that runs     miles on one charge a filtration system for desalination and a program that shows changes in geographic data ibm rose   cents to        at       a m in new york stock exchange composite trading the stock had gained    percent this year before today citizen science the list is meant to give a window into the company s innovation engine said josephine cheng a vice president at ibm s almaden lab all this demonstrates a real culture of innovation at ibm and willingness to devote itself to solving some of the world s biggest problems she said many of the predictions are based on projects that ibm has in the works one of this year s ideas that sensors in cars wallets and personal devices will give scientists better data about the environment is an expansion of the company s citizen science initiative earlier this year ibm teamed up with the california state water resources control board and the city of san jose environmental services to help gather information about waterways researchers from almaden created an application that lets smartphone users snap photos of streams and creeks and report back on conditions the hope is that these casual observations will help local and state officials who don t have the resources to do the work themselves traffic predictors ibm also sees data helping shorten commutes in the next five years computer programs will use algorithms and real time traffic information to predict which roads will have backups and how to avoid getting stuck batteries may last    times longer in      than today ibm says rather than using the current lithium ion technology new models could rely on energy dense metals that only need to interact with the air to recharge some electronic devices might ditch batteries altogether and use something similar to kinetic wristwatches which only need to be shaken to generate a charge the final prediction involves recycling the heat generated by computers and data centers almost half of the power used by data centers is currently spent keeping the computers cool ibm scientists say it would be better to harness that heat to warm houses and offices in ibm s first list of predictions compiled at the end of      researchers said instantaneous speech translation would become the norm that hasn t happened yet while some programs can quickly translate electronic documents and instant messages and other apps can perform limited speech translation there s nothing widely available that acts like the universal translator in star trek second life the company also predicted that online immersive environments such as second life would become more widespread while immersive video games are as popular as ever second life s growth has slowed internet users are flocking instead to the more   d environments of facebook inc and twitter inc meanwhile a      prediction that mobile phones will act as a wallet ticket broker concierge bank and shopping assistant is coming true thanks to the explosion of smartphone applications consumers can pay bills through their banking apps buy movie tickets and get instant feedback on potential purchases all with a few taps on their phones the nice thing about the list is that it provokes thought saffo said if everything came true they wouldn t be doing their job to contact the reporter on this story ryan flinn in san francisco at rflinn bloomberg net to contact the editor responsible for this story tom giles at tgiles  bloomberg net by       your mobile phone will project a   d image of anyone who calls and your laptop will be powered by kinetic energy  at least that s what international business machines corp  sees in its crystal ball '"
            ]
          },
          "metadata": {
            "tags": []
          },
          "execution_count": 11
        }
      ]
    },
    {
      "cell_type": "code",
      "metadata": {
        "colab": {
          "base_uri": "https://localhost:8080/"
        },
        "id": "lu97VV6qKyV7",
        "outputId": "6cf801f6-d1d1-419b-d075-194f6951a0fe"
      },
      "source": [
        "nltk.download('punkt')"
      ],
      "execution_count": 12,
      "outputs": [
        {
          "output_type": "stream",
          "text": [
            "[nltk_data] Downloading package punkt to /root/nltk_data...\n",
            "[nltk_data]   Unzipping tokenizers/punkt.zip.\n"
          ],
          "name": "stdout"
        },
        {
          "output_type": "execute_result",
          "data": {
            "text/plain": [
              "True"
            ]
          },
          "metadata": {
            "tags": []
          },
          "execution_count": 12
        }
      ]
    },
    {
      "cell_type": "code",
      "metadata": {
        "colab": {
          "base_uri": "https://localhost:8080/",
          "height": 120
        },
        "id": "qzBfMVRgJy4M",
        "outputId": "922b3ee3-78e3-42dc-9919-c608c5b4a2a2"
      },
      "source": [
        "corpus=[]\n",
        "stops = set(stopwords.words(\"english\"))\n",
        "\n",
        "for i in range(len(titlebodycombined_train)):\n",
        "    tokens=nltk.word_tokenize(titlebodycombined_train[i])\n",
        "    #taken only words(not punctuation)\n",
        "    token_words = [w for w in tokens if w.isalpha()]\n",
        "    #stem words \n",
        "    stemmed_list=[ps.stem(word) for word in token_words]\n",
        "    #remove stopwords\n",
        "    meaningful_words = [w for w in stemmed_list if not w in stops]\n",
        "    rejoined_words = ( \" \".join(meaningful_words))\n",
        "    corpus.append(rejoined_words)\n",
        "\n",
        "corpus[0]"
      ],
      "execution_count": 13,
      "outputs": [
        {
          "output_type": "execute_result",
          "data": {
            "application/vnd.google.colaboratory.intrinsic+json": {
              "type": "string"
            },
            "text/plain": [
              "'sign stand outsid intern busi machin corp ibm almaden research center campu san jose california photograph toni avelar bloomberg build stand intern busi machin corp ibm almaden research center campu santa teresa hill san jose california photograph toni avelar bloomberg mobil phone project imag anyon call laptop power kinet energi least intern busi machin corp see crystal ball predict part annual tradit armonk new york base compani survey research find five idea expect take root next five year ibm world largest provid comput servic look silicon valley input glean mani idea almaden research center san jose california holograph convers project mobil phone lead thi year list predict also includ air breath batteri comput program tell traffic jam take place environment inform gener sensor car phone citi power heat thrown comput server stretch goal good said paul saffo manag director foresight invest advisori firm discern san francisco era pessim new black littl dose technolog optim bad thing ibm idl specul compani one big corpor invest long rang research project count innov fuel growth saffo said predict pan though ibm wa overli optimist spread speech technolog instanc idea lead product broad implic societi well ibm bottom line said research spend continu research grand research organ gone said saffo also consult associ professor stanford univers ibm invest billion research develop last year percent revenu percent earli compani spend bigger share research comput rival hewlett packard co top maker person comput spent percent last year almaden scientist work project alway fit ibm comput busi lab research includ effort develop electr car batteri run mile one charg filtrat system desalin program show chang geograph data ibm rose cent new york stock exchang composit trade stock gain percent thi year befor today citizen scienc list meant give window compani innov engin said josephin cheng vice presid ibm almaden lab thi demonstr real cultur innov ibm willing devot solv world biggest problem said mani predict base project ibm ha work one thi year idea sensor car wallet person devic give scientist better data environ expans compani citizen scienc initi earlier thi year ibm team california state water resourc control board citi san jose environment servic help gather inform waterway research almaden creat applic let smartphon user snap photo stream creek report back condit hope casual observ help local state offici resourc work themselv traffic predictor ibm also see data help shorten commut next five year comput program use algorithm real time traffic inform predict road backup avoid get stuck batteri may last time longer today ibm say rather use current lithium ion technolog new model could reli energi dens metal onli need interact air recharg electron devic might ditch batteri altogeth use someth similar kinet wristwatch onli need shaken gener charg final predict involv recycl heat gener comput data center almost half power use data center current spent keep comput cool ibm scientist say would better har heat warm hous offic ibm first list predict compil end research said instantan speech translat would becom norm happen yet program quickli translat electron document instant messag app perform limit speech translat noth wide avail act like univers translat star trek second life compani also predict onlin immers environ second life would becom widespread immers video game popular ever second life growth ha slow internet user flock instead environ facebook inc twitter inc meanwhil predict mobil phone act wallet ticket broker concierg bank shop assist come true thank explos smartphon applic consum pay bill bank app buy movi ticket get instant feedback potenti purchas tap phone nice thing list provok thought saffo said everyth came true job contact report thi stori ryan flinn san francisco rflinn bloomberg net contact editor respons thi stori tom gile tgile bloomberg net mobil phone project imag anyon call laptop power kinet energi least intern busi machin corp see crystal ball'"
            ]
          },
          "metadata": {
            "tags": []
          },
          "execution_count": 13
        }
      ]
    },
    {
      "cell_type": "code",
      "metadata": {
        "id": "vft0qEd6JzHH"
      },
      "source": [
        "y=list(new['label'])"
      ],
      "execution_count": 14,
      "outputs": []
    },
    {
      "cell_type": "code",
      "metadata": {
        "id": "-i-hVWFjL8v9"
      },
      "source": [
        "df = pd.DataFrame(list(zip(corpus, y)), columns =['boilerplate', 'label']) "
      ],
      "execution_count": 15,
      "outputs": []
    },
    {
      "cell_type": "code",
      "metadata": {
        "id": "RAQHcIkFL85s"
      },
      "source": [
        "df.to_csv('cleaned_train.csv',index=False)"
      ],
      "execution_count": 16,
      "outputs": []
    },
    {
      "cell_type": "code",
      "metadata": {
        "id": "ryFuSahBYTOP"
      },
      "source": [
        ""
      ],
      "execution_count": null,
      "outputs": []
    }
  ]
}